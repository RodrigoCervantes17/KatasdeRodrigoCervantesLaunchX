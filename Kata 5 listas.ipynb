{
 "cells": [
  {
   "cell_type": "markdown",
   "metadata": {},
   "source": [
    "# KATA 5 "
   ]
  },
  {
   "cell_type": "code",
   "execution_count": 1,
   "metadata": {},
   "outputs": [],
   "source": [
    "distancia_tierrakm = 149597870\n",
    "distancia_jupiterkm = 778547200"
   ]
  },
  {
   "cell_type": "code",
   "execution_count": 2,
   "metadata": {},
   "outputs": [
    {
     "name": "stdout",
     "output_type": "stream",
     "text": [
      "628949330\n",
      "389948584\n"
     ]
    }
   ],
   "source": [
    "distancia_entre_planetas = distancia_jupiterkm - distancia_tierrakm\n",
    "print(distancia_entre_planetas)\n",
    "print(int(distancia_entre_planetas*0.62))"
   ]
  },
  {
   "cell_type": "code",
   "execution_count": 3,
   "metadata": {},
   "outputs": [],
   "source": [
    "#entre el sol y la tierra hay 150000000 km, y por ende, entre el sol y jupiter hay 778949330 km\n",
    "distancia_entre_sol_y_tierra = input(\"Introduzca la distancia entre el sol y la tierra en Km\")\n",
    "distancia_entre_sol_y_jupiter = input(\"Introduzca la distancia entre el sol y jupiter en Km\")"
   ]
  },
  {
   "cell_type": "code",
   "execution_count": 4,
   "metadata": {},
   "outputs": [],
   "source": [
    "distancia_entre_sol_y_tierra = int(distancia_entre_sol_y_tierra)\n",
    "distancia_entre_sol_y_jupiter = int(distancia_entre_sol_y_jupiter)"
   ]
  },
  {
   "cell_type": "code",
   "execution_count": 5,
   "metadata": {},
   "outputs": [
    {
     "name": "stdout",
     "output_type": "stream",
     "text": [
      "0\n",
      "0\n"
     ]
    }
   ],
   "source": [
    "distancia_entre_tierra_y_jupiter = distancia_entre_sol_y_jupiter - distancia_entre_sol_y_tierra\n",
    "print(distancia_entre_tierra_y_jupiter)\n",
    "print(int(distancia_entre_tierra_y_jupiter*0.621))"
   ]
  }
 ],
 "metadata": {
  "interpreter": {
   "hash": "9b1e27e74466904b75a73d137d3b15f446748fd037e8d1da3f15db633bdf4e2a"
  },
  "kernelspec": {
   "display_name": "Python 3.9.10 64-bit (windows store)",
   "language": "python",
   "name": "python3"
  },
  "language_info": {
   "codemirror_mode": {
    "name": "ipython",
    "version": 3
   },
   "file_extension": ".py",
   "mimetype": "text/x-python",
   "name": "python",
   "nbconvert_exporter": "python",
   "pygments_lexer": "ipython3",
   "version": "3.9.10"
  },
  "orig_nbformat": 4
 },
 "nbformat": 4,
 "nbformat_minor": 2
}
