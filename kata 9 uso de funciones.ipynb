{
 "cells": [
  {
   "cell_type": "markdown",
   "metadata": {},
   "source": [
    "# KATA 9 "
   ]
  },
  {
   "cell_type": "code",
   "execution_count": 12,
   "metadata": {},
   "outputs": [],
   "source": [
    "def reporte_combustible(tanque1, tanque2, tanque3):\n",
    "    promedio_total = (tanque1 + tanque2 + tanque3)/3\n",
    "    return f\"\"\"Reporte de Combustible:\n",
    "    Promedio Total : {promedio_total}%\n",
    "    tanque 1 : {tanque1}%\n",
    "    tanque 2 : {tanque2}%\n",
    "    tanque 3 : {tanque3}%\n",
    "    \"\"\""
   ]
  },
  {
   "cell_type": "code",
   "execution_count": 13,
   "metadata": {},
   "outputs": [
    {
     "name": "stdout",
     "output_type": "stream",
     "text": [
      "Reporte de Combustible:\n",
      "    Promedio Total : 70.0%\n",
      "    tanque 1 : 80%\n",
      "    tanque 2 : 70%\n",
      "    tanque 3 : 60%\n",
      "    \n"
     ]
    }
   ],
   "source": [
    "print(reporte_combustible(80, 70, 60))"
   ]
  },
  {
   "cell_type": "code",
   "execution_count": 19,
   "metadata": {},
   "outputs": [
    {
     "ename": "SyntaxError",
     "evalue": "invalid syntax (568152533.py, line 1)",
     "output_type": "error",
     "traceback": [
      "\u001b[1;36m  Input \u001b[1;32mIn [19]\u001b[1;36m\u001b[0m\n\u001b[1;33m    def average([80, 70, 60]) :\u001b[0m\n\u001b[1;37m                ^\u001b[0m\n\u001b[1;31mSyntaxError\u001b[0m\u001b[1;31m:\u001b[0m invalid syntax\n"
     ]
    }
   ],
   "source": [
    "def average([80, 70, 60]) :\n",
    "    total = sum(80, 70, 60)\n",
    "    numero_de_items = len(80, 70, 60)\n",
    "    print(total/numero_de_items)"
   ]
  },
  {
   "cell_type": "code",
   "execution_count": 15,
   "metadata": {},
   "outputs": [
    {
     "name": "stdout",
     "output_type": "stream",
     "text": [
      "Reporte mision:\n",
      "    Tiempo de Llegada : 51 Horas\n",
      "    Combustible : 100%\n",
      "    Destino : La Luna\n",
      "    \n"
     ]
    }
   ],
   "source": [
    "def reporte_mision(Tiempo_llegada, combustible, destino):\n",
    "    return f\"\"\"Reporte mision:\n",
    "    Tiempo de Llegada : {Tiempo_llegada} Horas\n",
    "    Combustible : {combustible}%\n",
    "    Destino : {destino}\n",
    "    \"\"\"\n",
    "print(reporte_mision(51, 100, \"La Luna\"))"
   ]
  },
  {
   "cell_type": "code",
   "execution_count": 17,
   "metadata": {},
   "outputs": [
    {
     "name": "stdout",
     "output_type": "stream",
     "text": [
      "Reporte mision:\n",
      "    Tiempo de Llegada : 3060 Minutos\n",
      "    Combustible : 100%\n",
      "    Mision a : La Luna\n",
      "    \n"
     ]
    }
   ],
   "source": [
    "reservas_combustible = 100\n",
    "def reporte_mision(horas, reservas_combustible, destino):\n",
    "    return f\"\"\"Reporte mision:\n",
    "    Tiempo de Llegada : {horas*60} Minutos\n",
    "    Combustible : {reservas_combustible}%\n",
    "    Mision a : {destino}\n",
    "    \"\"\"\n",
    "print(reporte_mision(51, 100, \"La Luna\"))"
   ]
  }
 ],
 "metadata": {
  "interpreter": {
   "hash": "9b1e27e74466904b75a73d137d3b15f446748fd037e8d1da3f15db633bdf4e2a"
  },
  "kernelspec": {
   "display_name": "Python 3.9.10 64-bit (windows store)",
   "language": "python",
   "name": "python3"
  },
  "language_info": {
   "codemirror_mode": {
    "name": "ipython",
    "version": 3
   },
   "file_extension": ".py",
   "mimetype": "text/x-python",
   "name": "python",
   "nbconvert_exporter": "python",
   "pygments_lexer": "ipython3",
   "version": "3.9.10"
  },
  "orig_nbformat": 4
 },
 "nbformat": 4,
 "nbformat_minor": 2
}
